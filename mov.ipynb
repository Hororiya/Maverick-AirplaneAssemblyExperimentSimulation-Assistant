{
 "cells": [
  {
   "cell_type": "code",
   "execution_count": 174,
   "id": "84937bcb",
   "metadata": {},
   "outputs": [],
   "source": [
    "import numpy as np"
   ]
  },
  {
   "cell_type": "code",
   "execution_count": 175,
   "id": "50007e31",
   "metadata": {},
   "outputs": [],
   "source": [
    "def Rigid_Transformation(q_supposed, q_now):\n",
    "    a, b = q_supposed, q_now\n",
    "    a_ave = a.sum(axis=0)/a.shape[0]\n",
    "    b_ave = b.sum(axis=0)/b.shape[0]\n",
    "    a_hat = np.subtract(a, a_ave)\n",
    "    b_hat = np.subtract(b, b_ave)\n",
    "    H = a_hat.T@b_hat\n",
    "    U, S, Vh = np.linalg.svd(H, full_matrices=True)\n",
    "    S = np.diag(S)\n",
    "    R = Vh.T@U.T\n",
    "    key = np.linalg.det(R)\n",
    "    R = Vh.T@np.diag([1,1,key])@U.T\n",
    "    T = np.array([b_ave]) - (R@(np.array([a_ave]).T)).T\n",
    "    return(R,T)"
   ]
  },
  {
   "cell_type": "code",
   "execution_count": 181,
   "id": "c05d9d55",
   "metadata": {},
   "outputs": [],
   "source": [
    "def Mov(q_supposed, q_now, p_supposed):\n",
    "    R, T = Rigid_Transformation(q_supposed, q_now)\n",
    "    p_now = np.add((R@p_supposed.T).T, T)\n",
    "    mov = p_supposed - p_now\n",
    "    return mov"
   ]
  }
 ],
 "metadata": {
  "kernelspec": {
   "display_name": "Python 3 (ipykernel)",
   "language": "python",
   "name": "python3"
  },
  "language_info": {
   "codemirror_mode": {
    "name": "ipython",
    "version": 3
   },
   "file_extension": ".py",
   "mimetype": "text/x-python",
   "name": "python",
   "nbconvert_exporter": "python",
   "pygments_lexer": "ipython3",
   "version": "3.9.5"
  }
 },
 "nbformat": 4,
 "nbformat_minor": 5
}
