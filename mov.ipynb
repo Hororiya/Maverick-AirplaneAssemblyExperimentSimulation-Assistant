{
 "cells": [
  {
   "cell_type": "code",
   "execution_count": 216,
   "id": "4096ba92",
   "metadata": {},
   "outputs": [],
   "source": [
    "import numpy as np\n",
    "import os"
   ]
  },
  {
   "cell_type": "code",
   "execution_count": 221,
   "id": "8ca2e5a2",
   "metadata": {},
   "outputs": [],
   "source": [
    "def Rigid_Transformation(q_supposed, q_now):\n",
    "    a, b = q_supposed, q_now\n",
    "    a_ave = a.sum(axis=0)/a.shape[0]\n",
    "    b_ave = b.sum(axis=0)/b.shape[0]\n",
    "    a_hat = np.subtract(a, a_ave)\n",
    "    b_hat = np.subtract(b, b_ave)\n",
    "    H = a_hat.T@b_hat\n",
    "    U, S, Vh = np.linalg.svd(H, full_matrices=True)\n",
    "    S = np.diag(S)\n",
    "    R = Vh.T@U.T\n",
    "    key = np.linalg.det(R)\n",
    "    R = Vh.T@np.diag([1,1,key])@U.T\n",
    "    T = np.array([b_ave]) - (R@(np.array([a_ave]).T)).T\n",
    "    return(R,T)"
   ]
  },
  {
   "cell_type": "code",
   "execution_count": 222,
   "id": "4b9175af",
   "metadata": {},
   "outputs": [],
   "source": [
    "def Mov(q_supposed, q_now, p_supposed):\n",
    "    R, T = Rigid_Transformation(q_supposed, q_now)\n",
    "    p_now = np.add((R@p_supposed.T).T, T)\n",
    "    mov = p_supposed - p_now\n",
    "    return mov"
   ]
  },
  {
   "cell_type": "code",
   "execution_count": 223,
   "id": "405a80d3",
   "metadata": {},
   "outputs": [],
   "source": [
    "def main():\n",
    "    q_supposed = np.genfromtxt(\"机翼测量点理论坐标.txt\", delimiter = \",\")\n",
    "    q_now = np.genfromtxt(\"机翼测量点当前坐标.txt\", delimiter = \",\")\n",
    "    p_supposed = np.genfromtxt(\"定位器理论坐标.txt\", delimiter = \",\")\n",
    "    movation = Mov(q_supposed, q_now, p_supposed)\n",
    "    '''os.remove(\"机翼测量点理论坐标.txt\", \"机翼测量点当前坐标.txt\", \"定位器理论坐标.txt\")'''\n",
    "    if os.path.exists(\"驱动量.txt\"):\n",
    "        os.remove(\"驱动量.txt\")\n",
    "    f = open(\"驱动量.txt\", mode='w')\n",
    "    for vector in movation:\n",
    "        f.write(str(vector))\n",
    "        f.write('\\n')\n",
    "    f.close()"
   ]
  },
  {
   "cell_type": "code",
   "execution_count": 224,
   "id": "796a4324",
   "metadata": {},
   "outputs": [],
   "source": [
    "if __name__ == \"__main__\":\n",
    "    main()"
   ]
  }
 ],
 "metadata": {
  "kernelspec": {
   "display_name": "Python 3 (ipykernel)",
   "language": "python",
   "name": "python3"
  },
  "language_info": {
   "codemirror_mode": {
    "name": "ipython",
    "version": 3
   },
   "file_extension": ".py",
   "mimetype": "text/x-python",
   "name": "python",
   "nbconvert_exporter": "python",
   "pygments_lexer": "ipython3",
   "version": "3.9.5"
  }
 },
 "nbformat": 4,
 "nbformat_minor": 5
}
